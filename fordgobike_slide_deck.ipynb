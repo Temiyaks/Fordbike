{
 "cells": [
  {
   "cell_type": "markdown",
   "id": "58e2e155",
   "metadata": {
    "slideshow": {
     "slide_type": "slide"
    }
   },
   "source": [
    "### Fordgobike Dataset Exploration and Visualization\n",
    "\n",
    "### by Temitope Yakub"
   ]
  },
  {
   "cell_type": "markdown",
   "id": "99a545af",
   "metadata": {
    "slideshow": {
     "slide_type": "slide"
    }
   },
   "source": [
    "#### Investigation Overview"
   ]
  },
  {
   "cell_type": "markdown",
   "id": "297c179e",
   "metadata": {
    "slideshow": {
     "slide_type": "slide"
    }
   },
   "source": [
    "\n",
    "I will investigate Ford GoBike System Dataset and discuss the effect of Three variables ('user_type','Trip_day of the week',and 'duration_min', and  hour) on number of trips and the relation between them."
   ]
  },
  {
   "cell_type": "markdown",
   "id": "60c8a188",
   "metadata": {
    "slideshow": {
     "slide_type": "slide"
    }
   },
   "source": [
    "### Dataset Overview"
   ]
  },
  {
   "cell_type": "markdown",
   "id": "f91a096a",
   "metadata": {
    "slideshow": {
     "slide_type": "slide"
    }
   },
   "source": [
    "This document explores the Ford GoBike's trip data for public containing bike rides. The attributes included the trip start/end time, as well as additional measurements such as user type, gender, and age. "
   ]
  },
  {
   "cell_type": "code",
   "execution_count": 1,
   "id": "6723a588",
   "metadata": {
    "slideshow": {
     "slide_type": "skip"
    }
   },
   "outputs": [],
   "source": [
    "# import all packages and set plots to be embedded inline\n",
    "import numpy as np\n",
    "import pandas as pd\n",
    "import matplotlib.pyplot as plt\n",
    "import seaborn as sn\n",
    "\n",
    "%matplotlib inline\n",
    "\n",
    "# suppress warnings from final output\n",
    "import warnings\n",
    "warnings.simplefilter(\"ignore\")"
   ]
  },
  {
   "cell_type": "code",
   "execution_count": 2,
   "id": "7129649f",
   "metadata": {
    "slideshow": {
     "slide_type": "skip"
    }
   },
   "outputs": [],
   "source": [
    "# load in the dataset into a pandas dataframe\n",
    "df = pd.read_csv('clean_file.csv')"
   ]
  },
  {
   "cell_type": "code",
   "execution_count": 3,
   "id": "d2a54e68",
   "metadata": {
    "slideshow": {
     "slide_type": "slide"
    }
   },
   "outputs": [
    {
     "data": {
      "text/html": [
       "<div>\n",
       "<style scoped>\n",
       "    .dataframe tbody tr th:only-of-type {\n",
       "        vertical-align: middle;\n",
       "    }\n",
       "\n",
       "    .dataframe tbody tr th {\n",
       "        vertical-align: top;\n",
       "    }\n",
       "\n",
       "    .dataframe thead th {\n",
       "        text-align: right;\n",
       "    }\n",
       "</style>\n",
       "<table border=\"1\" class=\"dataframe\">\n",
       "  <thead>\n",
       "    <tr style=\"text-align: right;\">\n",
       "      <th></th>\n",
       "      <th>duration_sec</th>\n",
       "      <th>start_time</th>\n",
       "      <th>end_time</th>\n",
       "      <th>start_station_id</th>\n",
       "      <th>start_station_name</th>\n",
       "      <th>start_station_latitude</th>\n",
       "      <th>start_station_longitude</th>\n",
       "      <th>end_station_id</th>\n",
       "      <th>end_station_name</th>\n",
       "      <th>end_station_latitude</th>\n",
       "      <th>end_station_longitude</th>\n",
       "      <th>bike_id</th>\n",
       "      <th>user_type</th>\n",
       "      <th>member_birth_year</th>\n",
       "      <th>member_gender</th>\n",
       "      <th>bike_share_for_all_trip</th>\n",
       "      <th>start_dayofweek</th>\n",
       "      <th>start_hour</th>\n",
       "      <th>duration_min</th>\n",
       "      <th>member_age</th>\n",
       "    </tr>\n",
       "  </thead>\n",
       "  <tbody>\n",
       "    <tr>\n",
       "      <th>0</th>\n",
       "      <td>52185</td>\n",
       "      <td>2019-02-28 17:32:10.145</td>\n",
       "      <td>2019-03-01 08:01:55.975</td>\n",
       "      <td>21.0</td>\n",
       "      <td>Montgomery St BART Station (Market St at 2nd St)</td>\n",
       "      <td>37.789625</td>\n",
       "      <td>-122.400811</td>\n",
       "      <td>13.0</td>\n",
       "      <td>Commercial St at Montgomery St</td>\n",
       "      <td>37.794231</td>\n",
       "      <td>-122.402923</td>\n",
       "      <td>4902</td>\n",
       "      <td>Customer</td>\n",
       "      <td>1984</td>\n",
       "      <td>Male</td>\n",
       "      <td>No</td>\n",
       "      <td>Thu</td>\n",
       "      <td>17</td>\n",
       "      <td>869.750000</td>\n",
       "      <td>38</td>\n",
       "    </tr>\n",
       "    <tr>\n",
       "      <th>1</th>\n",
       "      <td>61854</td>\n",
       "      <td>2019-02-28 12:13:13.218</td>\n",
       "      <td>2019-03-01 05:24:08.146</td>\n",
       "      <td>86.0</td>\n",
       "      <td>Market St at Dolores St</td>\n",
       "      <td>37.769305</td>\n",
       "      <td>-122.426826</td>\n",
       "      <td>3.0</td>\n",
       "      <td>Powell St BART Station (Market St at 4th St)</td>\n",
       "      <td>37.786375</td>\n",
       "      <td>-122.404904</td>\n",
       "      <td>5905</td>\n",
       "      <td>Customer</td>\n",
       "      <td>1972</td>\n",
       "      <td>Male</td>\n",
       "      <td>No</td>\n",
       "      <td>Thu</td>\n",
       "      <td>12</td>\n",
       "      <td>1030.900000</td>\n",
       "      <td>50</td>\n",
       "    </tr>\n",
       "    <tr>\n",
       "      <th>2</th>\n",
       "      <td>36490</td>\n",
       "      <td>2019-02-28 17:54:26.010</td>\n",
       "      <td>2019-03-01 04:02:36.842</td>\n",
       "      <td>375.0</td>\n",
       "      <td>Grove St at Masonic Ave</td>\n",
       "      <td>37.774836</td>\n",
       "      <td>-122.446546</td>\n",
       "      <td>70.0</td>\n",
       "      <td>Central Ave at Fell St</td>\n",
       "      <td>37.773311</td>\n",
       "      <td>-122.444293</td>\n",
       "      <td>6638</td>\n",
       "      <td>Subscriber</td>\n",
       "      <td>1989</td>\n",
       "      <td>Other</td>\n",
       "      <td>No</td>\n",
       "      <td>Thu</td>\n",
       "      <td>17</td>\n",
       "      <td>608.166667</td>\n",
       "      <td>33</td>\n",
       "    </tr>\n",
       "    <tr>\n",
       "      <th>3</th>\n",
       "      <td>1585</td>\n",
       "      <td>2019-02-28 23:54:18.549</td>\n",
       "      <td>2019-03-01 00:20:44.074</td>\n",
       "      <td>7.0</td>\n",
       "      <td>Frank H Ogawa Plaza</td>\n",
       "      <td>37.804562</td>\n",
       "      <td>-122.271738</td>\n",
       "      <td>222.0</td>\n",
       "      <td>10th Ave at E 15th St</td>\n",
       "      <td>37.792714</td>\n",
       "      <td>-122.248780</td>\n",
       "      <td>4898</td>\n",
       "      <td>Subscriber</td>\n",
       "      <td>1974</td>\n",
       "      <td>Male</td>\n",
       "      <td>Yes</td>\n",
       "      <td>Thu</td>\n",
       "      <td>23</td>\n",
       "      <td>26.416667</td>\n",
       "      <td>48</td>\n",
       "    </tr>\n",
       "    <tr>\n",
       "      <th>4</th>\n",
       "      <td>1147</td>\n",
       "      <td>2019-02-28 23:55:35.104</td>\n",
       "      <td>2019-03-01 00:14:42.588</td>\n",
       "      <td>300.0</td>\n",
       "      <td>Palm St at Willow St</td>\n",
       "      <td>37.317298</td>\n",
       "      <td>-121.884995</td>\n",
       "      <td>312.0</td>\n",
       "      <td>San Jose Diridon Station</td>\n",
       "      <td>37.329732</td>\n",
       "      <td>-121.901782</td>\n",
       "      <td>3803</td>\n",
       "      <td>Subscriber</td>\n",
       "      <td>1983</td>\n",
       "      <td>Female</td>\n",
       "      <td>No</td>\n",
       "      <td>Thu</td>\n",
       "      <td>23</td>\n",
       "      <td>19.116667</td>\n",
       "      <td>39</td>\n",
       "    </tr>\n",
       "  </tbody>\n",
       "</table>\n",
       "</div>"
      ],
      "text/plain": [
       "   duration_sec               start_time                 end_time  \\\n",
       "0         52185  2019-02-28 17:32:10.145  2019-03-01 08:01:55.975   \n",
       "1         61854  2019-02-28 12:13:13.218  2019-03-01 05:24:08.146   \n",
       "2         36490  2019-02-28 17:54:26.010  2019-03-01 04:02:36.842   \n",
       "3          1585  2019-02-28 23:54:18.549  2019-03-01 00:20:44.074   \n",
       "4          1147  2019-02-28 23:55:35.104  2019-03-01 00:14:42.588   \n",
       "\n",
       "   start_station_id                                start_station_name  \\\n",
       "0              21.0  Montgomery St BART Station (Market St at 2nd St)   \n",
       "1              86.0                           Market St at Dolores St   \n",
       "2             375.0                           Grove St at Masonic Ave   \n",
       "3               7.0                               Frank H Ogawa Plaza   \n",
       "4             300.0                              Palm St at Willow St   \n",
       "\n",
       "   start_station_latitude  start_station_longitude  end_station_id  \\\n",
       "0               37.789625              -122.400811            13.0   \n",
       "1               37.769305              -122.426826             3.0   \n",
       "2               37.774836              -122.446546            70.0   \n",
       "3               37.804562              -122.271738           222.0   \n",
       "4               37.317298              -121.884995           312.0   \n",
       "\n",
       "                               end_station_name  end_station_latitude  \\\n",
       "0                Commercial St at Montgomery St             37.794231   \n",
       "1  Powell St BART Station (Market St at 4th St)             37.786375   \n",
       "2                        Central Ave at Fell St             37.773311   \n",
       "3                         10th Ave at E 15th St             37.792714   \n",
       "4                      San Jose Diridon Station             37.329732   \n",
       "\n",
       "   end_station_longitude  bike_id   user_type  member_birth_year  \\\n",
       "0            -122.402923     4902    Customer               1984   \n",
       "1            -122.404904     5905    Customer               1972   \n",
       "2            -122.444293     6638  Subscriber               1989   \n",
       "3            -122.248780     4898  Subscriber               1974   \n",
       "4            -121.901782     3803  Subscriber               1983   \n",
       "\n",
       "  member_gender bike_share_for_all_trip start_dayofweek  start_hour  \\\n",
       "0          Male                      No             Thu          17   \n",
       "1          Male                      No             Thu          12   \n",
       "2         Other                      No             Thu          17   \n",
       "3          Male                     Yes             Thu          23   \n",
       "4        Female                      No             Thu          23   \n",
       "\n",
       "   duration_min  member_age  \n",
       "0    869.750000          38  \n",
       "1   1030.900000          50  \n",
       "2    608.166667          33  \n",
       "3     26.416667          48  \n",
       "4     19.116667          39  "
      ]
     },
     "execution_count": 3,
     "metadata": {},
     "output_type": "execute_result"
    }
   ],
   "source": [
    "df.head()"
   ]
  },
  {
   "cell_type": "code",
   "execution_count": 4,
   "id": "24bce367",
   "metadata": {
    "slideshow": {
     "slide_type": "slide"
    }
   },
   "outputs": [
    {
     "name": "stdout",
     "output_type": "stream",
     "text": [
      "<class 'pandas.core.frame.DataFrame'>\n",
      "RangeIndex: 169171 entries, 0 to 169170\n",
      "Data columns (total 20 columns):\n",
      " #   Column                   Non-Null Count   Dtype  \n",
      "---  ------                   --------------   -----  \n",
      " 0   duration_sec             169171 non-null  int64  \n",
      " 1   start_time               169171 non-null  object \n",
      " 2   end_time                 169171 non-null  object \n",
      " 3   start_station_id         169171 non-null  float64\n",
      " 4   start_station_name       169171 non-null  object \n",
      " 5   start_station_latitude   169171 non-null  float64\n",
      " 6   start_station_longitude  169171 non-null  float64\n",
      " 7   end_station_id           169171 non-null  float64\n",
      " 8   end_station_name         169171 non-null  object \n",
      " 9   end_station_latitude     169171 non-null  float64\n",
      " 10  end_station_longitude    169171 non-null  float64\n",
      " 11  bike_id                  169171 non-null  int64  \n",
      " 12  user_type                169171 non-null  object \n",
      " 13  member_birth_year        169171 non-null  int64  \n",
      " 14  member_gender            169171 non-null  object \n",
      " 15  bike_share_for_all_trip  169171 non-null  object \n",
      " 16  start_dayofweek          169171 non-null  object \n",
      " 17  start_hour               169171 non-null  int64  \n",
      " 18  duration_min             169171 non-null  float64\n",
      " 19  member_age               169171 non-null  int64  \n",
      "dtypes: float64(7), int64(5), object(8)\n",
      "memory usage: 25.8+ MB\n"
     ]
    }
   ],
   "source": [
    "df.info()"
   ]
  },
  {
   "cell_type": "code",
   "execution_count": 5,
   "id": "5bc33b99",
   "metadata": {
    "slideshow": {
     "slide_type": "skip"
    }
   },
   "outputs": [],
   "source": [
    "# labels to use in plots\n",
    "weekday_labels = ['Mon', 'Tue', 'Wed', 'Thu', 'Fri', 'Sat', 'Sun']\n",
    "\n",
    "# color to use in plots \n",
    "base_color = sn.color_palette()[0]\n",
    "\n",
    "# Convert the start_time_dayofweek to ordinal variables.\n",
    "ordered_weekdays = pd.api.types.CategoricalDtype(ordered = True, categories = weekday_labels)\n",
    "df['start_dayofweek'] = df['start_dayofweek'].astype(ordered_weekdays)"
   ]
  },
  {
   "cell_type": "markdown",
   "id": "392c6127",
   "metadata": {
    "slideshow": {
     "slide_type": "slide"
    }
   },
   "source": [
    "### Bike Ride Duration Time Visualization:\n",
    "\n",
    "The origianl duration data has right skew issue - bike durations range from less than 1 minute to 1400+ minutes with median at around 9 min and mean at around 12 min.\n",
    "\n",
    "We have to do some data transformation to make data visualization and data interpretation easiler. "
   ]
  },
  {
   "cell_type": "markdown",
   "id": "dcd112e3",
   "metadata": {
    "slideshow": {
     "slide_type": "slide"
    }
   },
   "source": [
    "Most rides took about (8-12) minutes. And very few rides lasted more than one hour (60 minutes)."
   ]
  },
  {
   "cell_type": "code",
   "execution_count": 6,
   "id": "59f028e8",
   "metadata": {
    "slideshow": {
     "slide_type": "subslide"
    }
   },
   "outputs": [
    {
     "data": {
      "image/png": "[encoded data removed]",
      "text/plain": [
       "<Figure size 504x432 with 1 Axes>"
      ]
     },
     "metadata": {
      "needs_background": "light"
     },
     "output_type": "display_data"
    }
   ],
   "source": [
    "# plot a histogram with logarithmic scale transformation\n",
    "plt.figure(figsize=[7,6])\n",
    "bin_edges = 10 ** np.arange(0.0, np.log10(df.duration_min.max())+0.1, 0.1)\n",
    "plt.hist(data = df, x = 'duration_min', bins = bin_edges)\n",
    "plt.xscale('log')\n",
    "tick_locs = [1,2,5,10, 20, 50, 100]\n",
    "plt.xticks(tick_locs, tick_locs)\n",
    "plt.xlabel('Duration (min)')\n",
    "plt.title('Distribution of Duration');"
   ]
  },
  {
   "cell_type": "markdown",
   "id": "bd522631",
   "metadata": {
    "slideshow": {
     "slide_type": "slide"
    }
   },
   "source": [
    "### Daily/Weekly Bike Ride Trends and Gender Visualization:\n",
    "\n"
   ]
  },
  {
   "cell_type": "markdown",
   "id": "4dce8a86",
   "metadata": {
    "slideshow": {
     "slide_type": "slide"
    }
   },
   "source": [
    "#### Observations from below plots:\n",
    "1. Monday has the highest biker counts across 7 days.\n",
    "2. Females bikers rides longer than Male. \n",
    "3. Monday has the most male bikers compared to other days. It also has the most female bikers compared to other days."
   ]
  },
  {
   "cell_type": "code",
   "execution_count": 7,
   "id": "e4890ea7",
   "metadata": {
    "slideshow": {
     "slide_type": "subslide"
    }
   },
   "outputs": [
    {
     "data": {
      "image/png": "[encoded data removed]",
      "text/plain": [
       "<Figure size 1152x576 with 3 Axes>"
      ]
     },
     "metadata": {
      "needs_background": "light"
     },
     "output_type": "display_data"
    }
   ],
   "source": [
    "# facetting histograms of start_weekday against gender\n",
    "\n",
    "\n",
    "\n",
    "#The count of member_gender\n",
    "gender_order = df['member_gender'].value_counts().index\n",
    "bin_edges = np.arange(-0.5, 6.5+1, 1)\n",
    "g = sn.FacetGrid(data = df, col = 'member_gender',hue='member_gender', palette='viridis' , height=4, aspect=2, \n",
    "                 col_order = gender_order, col_wrap=2,  sharey=False)\n",
    "g.map(plt.hist, 'start_dayofweek', bins = bin_edges, rwidth = 0.7);\n",
    "plt.xticks(np.arange(0, 6+1, 1), weekday_labels);\n",
    "\n",
    "\n"
   ]
  },
  {
   "cell_type": "markdown",
   "id": "60c1d1e6",
   "metadata": {
    "slideshow": {
     "slide_type": "slide"
    }
   },
   "source": [
    "#### Trip duration on a weekday for each User type"
   ]
  },
  {
   "cell_type": "markdown",
   "id": "714abe45",
   "metadata": {
    "slideshow": {
     "slide_type": "slide"
    }
   },
   "source": [
    "#### Observations from below plots:\n",
    "\n",
    "1. Both of Users type have a longer trip duration on weekend in relative to their trips during other week days.\n",
    "\n",
    "2. It appears that customers hire bikes for amusement and enjoyment since they keep them longer than subscribers do, especially on weekends (Saturday and Sunday)."
   ]
  },
  {
   "cell_type": "code",
   "execution_count": 8,
   "id": "5b0f475e",
   "metadata": {
    "slideshow": {
     "slide_type": "skip"
    }
   },
   "outputs": [],
   "source": [
    "df_60 = df[df.duration_min <= 60]"
   ]
  },
  {
   "cell_type": "code",
   "execution_count": 9,
   "id": "6a2fb2eb",
   "metadata": {
    "slideshow": {
     "slide_type": "subslide"
    }
   },
   "outputs": [
    {
     "data": {
      "image/png": "[encoded data removed]",
      "text/plain": [
       "<Figure size 720x360 with 1 Axes>"
      ]
     },
     "metadata": {
      "needs_background": "light"
     },
     "output_type": "display_data"
    }
   ],
   "source": [
    "user_weekday_avg_mint = df_60.groupby(['user_type','start_dayofweek']).duration_min.mean()\n",
    "user_weekday_avg_mint = user_weekday_avg_mint.reset_index()\n",
    "\n",
    "# plot a line plot with colors based on user_type\n",
    "plt.figure(figsize=[10,5])\n",
    "sn.set_style('darkgrid')\n",
    "sn.lineplot(data = user_weekday_avg_mint, x='start_dayofweek', y='duration_min', hue='user_type', marker='o')\n",
    "plt.xticks(np.arange(0,7), weekday_labels)\n",
    "plt.ylabel('Average Duration (min)');"
   ]
  },
  {
   "cell_type": "markdown",
   "id": "10e78dc9",
   "metadata": {
    "slideshow": {
     "slide_type": "slide"
    }
   },
   "source": [
    "### Trips Duration in Week days by Gender\n",
    "\n"
   ]
  },
  {
   "cell_type": "markdown",
   "id": "d3001c90",
   "metadata": {
    "slideshow": {
     "slide_type": "slide"
    }
   },
   "source": [
    "Observations:\n",
    "\n",
    "Not surprising the trip duration start trending up on the weekends from Thursdays to Saturdays. Males still have the shortest bike trip."
   ]
  },
  {
   "cell_type": "code",
   "execution_count": 10,
   "id": "99cbfd19",
   "metadata": {
    "slideshow": {
     "slide_type": "subslide"
    }
   },
   "outputs": [
    {
     "data": {
      "image/png": "[encoded data removed]",
      "text/plain": [
       "<Figure size 720x360 with 1 Axes>"
      ]
     },
     "metadata": {},
     "output_type": "display_data"
    }
   ],
   "source": [
    "#some rides didn't exceed more than 60 minutes\n",
    "#df_60 = df[df.duration_min <= 60]\n",
    "\n",
    "user_weekday_avg_mint = df_60.groupby(['member_gender','start_dayofweek']).duration_min.mean()\n",
    "user_weekday_avg_mint = user_weekday_avg_mint.reset_index()\n",
    "\n",
    "\n",
    "# plot a line plot with colors based on user_type\n",
    "\n",
    "plt.figure(figsize=[10,5])\n",
    "sn.set_style('darkgrid')\n",
    "sn.lineplot(data = user_weekday_avg_mint, x='start_dayofweek', y='duration_min', hue='member_gender', marker='o')\n",
    "plt.xticks(np.arange(0,7), weekday_labels)\n",
    "plt.ylabel('Average Duration (min)');\n",
    "plt.show()"
   ]
  },
  {
   "cell_type": "code",
   "execution_count": null,
   "id": "a507bd15",
   "metadata": {
    "slideshow": {
     "slide_type": "skip"
    }
   },
   "outputs": [
    {
     "name": "stdout",
     "output_type": "stream",
     "text": [
      "[NbConvertApp] Converting notebook fordgobike_slide_deck.ipynb to slides\n",
      "[NbConvertApp] Writing 687116 bytes to fordgobike_slide_deck.slides.html\n",
      "[NbConvertApp] Redirecting reveal.js requests to https://cdnjs.cloudflare.com/ajax/libs/reveal.js/3.5.0\n",
      "Serving your slides at http://127.0.0.1:8000/fordgobike_slide_deck.slides.html\n",
      "Use Control-C to stop this server\n"
     ]
    }
   ],
   "source": [
    "!jupyter nbconvert fordgobike_slide_deck.ipynb --to slides --post serve --no-input --no-prompt\n"
   ]
  },
  {
   "cell_type": "code",
   "execution_count": null,
   "id": "259125f7",
   "metadata": {},
   "outputs": [],
   "source": []
  },
  {
   "cell_type": "code",
   "execution_count": null,
   "id": "f78e6668",
   "metadata": {},
   "outputs": [],
   "source": []
  }
 ],
 "metadata": {
  "celltoolbar": "Slideshow",
  "kernelspec": {
   "display_name": "Python 3",
   "language": "python",
   "name": "python3"
  },
  "language_info": {
   "codemirror_mode": {
    "name": "ipython",
    "version": 3
   },
   "file_extension": ".py",
   "mimetype": "text/x-python",
   "name": "python",
   "nbconvert_exporter": "python",
   "pygments_lexer": "ipython3",
   "version": "3.9.13"
  }
 },
 "nbformat": 4,
 "nbformat_minor": 5
}
