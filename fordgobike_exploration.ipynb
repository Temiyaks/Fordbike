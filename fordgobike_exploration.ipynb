{
 "cells": [
  {
   "cell_type": "markdown",
   "id": "353fbbaa",
   "metadata": {},
   "source": [
    "# Fordgobike Dataset Exploration and Visualization\n",
    "\n",
    "<h4>Temitope Yakub<h4>\n",
    "\n",
    "\n",
    "    \n",
    "    \n"
   ]
  },
  {
   "cell_type": "markdown",
   "id": "31de241e",
   "metadata": {},
   "source": [
    "### Introduction\n",
    "\n",
    "We will investigate Ford GoBike System Dataset and discuss the effect of Three variables ('user_type','Trip_day of the week',and 'duration_min') on number of trips and the relation between them.\n",
    "    \n",
    "Like other bike sharing programs, Ford GoBike uses a fleet of strong, durable bikes that are secured into a system of docking stations spread out over the city. The bikes are perfect for one-way travels because they may be unlocked from one station and returned to any other station in the network. The bikes may be used 365 days a year, seven days a week, and 24 hours a day. Riders who sign up as members or buy passes get access to all the bikes in the network."
   ]
  },
  {
   "cell_type": "markdown",
   "id": "ea5c7d04",
   "metadata": {},
   "source": [
    "### Preliminary Wrangling"
   ]
  },
  {
   "cell_type": "code",
   "execution_count": 1,
   "id": "3c849a07",
   "metadata": {},
   "outputs": [],
   "source": [
    "#importing libraries\n",
    "import pandas as pd\n",
    "import numpy as np\n",
    "import matplotlib.pyplot as plt\n",
    "import seaborn as sn\n",
    "\n",
    "%matplotlib inline"
   ]
  },
  {
   "cell_type": "code",
   "execution_count": 2,
   "id": "0b53589a",
   "metadata": {},
   "outputs": [
    {
     "data": {
      "text/html": [
       "<div>\n",
       "<style scoped>\n",
       "    .dataframe tbody tr th:only-of-type {\n",
       "        vertical-align: middle;\n",
       "    }\n",
       "\n",
       "    .dataframe tbody tr th {\n",
       "        vertical-align: top;\n",
       "    }\n",
       "\n",
       "    .dataframe thead th {\n",
       "        text-align: right;\n",
       "    }\n",
       "</style>\n",
       "<table border=\"1\" class=\"dataframe\">\n",
       "  <thead>\n",
       "    <tr style=\"text-align: right;\">\n",
       "      <th></th>\n",
       "      <th>duration_sec</th>\n",
       "      <th>start_time</th>\n",
       "      <th>end_time</th>\n",
       "      <th>start_station_id</th>\n",
       "      <th>start_station_name</th>\n",
       "      <th>start_station_latitude</th>\n",
       "      <th>start_station_longitude</th>\n",
       "      <th>end_station_id</th>\n",
       "      <th>end_station_name</th>\n",
       "      <th>end_station_latitude</th>\n",
       "      <th>end_station_longitude</th>\n",
       "      <th>bike_id</th>\n",
       "      <th>user_type</th>\n",
       "      <th>member_birth_year</th>\n",
       "      <th>member_gender</th>\n",
       "      <th>bike_share_for_all_trip</th>\n",
       "    </tr>\n",
       "  </thead>\n",
       "  <tbody>\n",
       "    <tr>\n",
       "      <th>0</th>\n",
       "      <td>52185</td>\n",
       "      <td>2019-02-28 17:32:10.1450</td>\n",
       "      <td>2019-03-01 08:01:55.9750</td>\n",
       "      <td>21.0</td>\n",
       "      <td>Montgomery St BART Station (Market St at 2nd St)</td>\n",
       "      <td>37.789625</td>\n",
       "      <td>-122.400811</td>\n",
       "      <td>13.0</td>\n",
       "      <td>Commercial St at Montgomery St</td>\n",
       "      <td>37.794231</td>\n",
       "      <td>-122.402923</td>\n",
       "      <td>4902</td>\n",
       "      <td>Customer</td>\n",
       "      <td>1984.0</td>\n",
       "      <td>Male</td>\n",
       "      <td>No</td>\n",
       "    </tr>\n",
       "    <tr>\n",
       "      <th>1</th>\n",
       "      <td>42521</td>\n",
       "      <td>2019-02-28 18:53:21.7890</td>\n",
       "      <td>2019-03-01 06:42:03.0560</td>\n",
       "      <td>23.0</td>\n",
       "      <td>The Embarcadero at Steuart St</td>\n",
       "      <td>37.791464</td>\n",
       "      <td>-122.391034</td>\n",
       "      <td>81.0</td>\n",
       "      <td>Berry St at 4th St</td>\n",
       "      <td>37.775880</td>\n",
       "      <td>-122.393170</td>\n",
       "      <td>2535</td>\n",
       "      <td>Customer</td>\n",
       "      <td>NaN</td>\n",
       "      <td>NaN</td>\n",
       "      <td>No</td>\n",
       "    </tr>\n",
       "    <tr>\n",
       "      <th>2</th>\n",
       "      <td>61854</td>\n",
       "      <td>2019-02-28 12:13:13.2180</td>\n",
       "      <td>2019-03-01 05:24:08.1460</td>\n",
       "      <td>86.0</td>\n",
       "      <td>Market St at Dolores St</td>\n",
       "      <td>37.769305</td>\n",
       "      <td>-122.426826</td>\n",
       "      <td>3.0</td>\n",
       "      <td>Powell St BART Station (Market St at 4th St)</td>\n",
       "      <td>37.786375</td>\n",
       "      <td>-122.404904</td>\n",
       "      <td>5905</td>\n",
       "      <td>Customer</td>\n",
       "      <td>1972.0</td>\n",
       "      <td>Male</td>\n",
       "      <td>No</td>\n",
       "    </tr>\n",
       "    <tr>\n",
       "      <th>3</th>\n",
       "      <td>36490</td>\n",
       "      <td>2019-02-28 17:54:26.0100</td>\n",
       "      <td>2019-03-01 04:02:36.8420</td>\n",
       "      <td>375.0</td>\n",
       "      <td>Grove St at Masonic Ave</td>\n",
       "      <td>37.774836</td>\n",
       "      <td>-122.446546</td>\n",
       "      <td>70.0</td>\n",
       "      <td>Central Ave at Fell St</td>\n",
       "      <td>37.773311</td>\n",
       "      <td>-122.444293</td>\n",
       "      <td>6638</td>\n",
       "      <td>Subscriber</td>\n",
       "      <td>1989.0</td>\n",
       "      <td>Other</td>\n",
       "      <td>No</td>\n",
       "    </tr>\n",
       "    <tr>\n",
       "      <th>4</th>\n",
       "      <td>1585</td>\n",
       "      <td>2019-02-28 23:54:18.5490</td>\n",
       "      <td>2019-03-01 00:20:44.0740</td>\n",
       "      <td>7.0</td>\n",
       "      <td>Frank H Ogawa Plaza</td>\n",
       "      <td>37.804562</td>\n",
       "      <td>-122.271738</td>\n",
       "      <td>222.0</td>\n",
       "      <td>10th Ave at E 15th St</td>\n",
       "      <td>37.792714</td>\n",
       "      <td>-122.248780</td>\n",
       "      <td>4898</td>\n",
       "      <td>Subscriber</td>\n",
       "      <td>1974.0</td>\n",
       "      <td>Male</td>\n",
       "      <td>Yes</td>\n",
       "    </tr>\n",
       "  </tbody>\n",
       "</table>\n",
       "</div>"
      ],
      "text/plain": [
       "   duration_sec                start_time                  end_time  \\\n",
       "0         52185  2019-02-28 17:32:10.1450  2019-03-01 08:01:55.9750   \n",
       "1         42521  2019-02-28 18:53:21.7890  2019-03-01 06:42:03.0560   \n",
       "2         61854  2019-02-28 12:13:13.2180  2019-03-01 05:24:08.1460   \n",
       "3         36490  2019-02-28 17:54:26.0100  2019-03-01 04:02:36.8420   \n",
       "4          1585  2019-02-28 23:54:18.5490  2019-03-01 00:20:44.0740   \n",
       "\n",
       "   start_station_id                                start_station_name  \\\n",
       "0              21.0  Montgomery St BART Station (Market St at 2nd St)   \n",
       "1              23.0                     The Embarcadero at Steuart St   \n",
       "2              86.0                           Market St at Dolores St   \n",
       "3             375.0                           Grove St at Masonic Ave   \n",
       "4               7.0                               Frank H Ogawa Plaza   \n",
       "\n",
       "   start_station_latitude  start_station_longitude  end_station_id  \\\n",
       "0               37.789625              -122.400811            13.0   \n",
       "1               37.791464              -122.391034            81.0   \n",
       "2               37.769305              -122.426826             3.0   \n",
       "3               37.774836              -122.446546            70.0   \n",
       "4               37.804562              -122.271738           222.0   \n",
       "\n",
       "                               end_station_name  end_station_latitude  \\\n",
       "0                Commercial St at Montgomery St             37.794231   \n",
       "1                            Berry St at 4th St             37.775880   \n",
       "2  Powell St BART Station (Market St at 4th St)             37.786375   \n",
       "3                        Central Ave at Fell St             37.773311   \n",
       "4                         10th Ave at E 15th St             37.792714   \n",
       "\n",
       "   end_station_longitude  bike_id   user_type  member_birth_year  \\\n",
       "0            -122.402923     4902    Customer             1984.0   \n",
       "1            -122.393170     2535    Customer                NaN   \n",
       "2            -122.404904     5905    Customer             1972.0   \n",
       "3            -122.444293     6638  Subscriber             1989.0   \n",
       "4            -122.248780     4898  Subscriber             1974.0   \n",
       "\n",
       "  member_gender bike_share_for_all_trip  \n",
       "0          Male                      No  \n",
       "1           NaN                      No  \n",
       "2          Male                      No  \n",
       "3         Other                      No  \n",
       "4          Male                     Yes  "
      ]
     },
     "execution_count": 2,
     "metadata": {},
     "output_type": "execute_result"
    }
   ],
   "source": [
    "#reading the dataset\n",
    "df = pd.read_csv('201902-fordgobike-tripdata.csv')\n",
    "df.head()"
   ]
  },
  {
   "cell_type": "code",
   "execution_count": 3,
   "id": "232082f2",
   "metadata": {},
   "outputs": [
    {
     "data": {
      "text/plain": [
       "(183412, 16)"
      ]
     },
     "execution_count": 3,
     "metadata": {},
     "output_type": "execute_result"
    }
   ],
   "source": [
    "df.shape"
   ]
  },
  {
   "cell_type": "code",
   "execution_count": 4,
   "id": "2589b767",
   "metadata": {},
   "outputs": [
    {
     "name": "stdout",
     "output_type": "stream",
     "text": [
      "<class 'pandas.core.frame.DataFrame'>\n",
      "RangeIndex: 183412 entries, 0 to 183411\n",
      "Data columns (total 16 columns):\n",
      " #   Column                   Non-Null Count   Dtype  \n",
      "---  ------                   --------------   -----  \n",
      " 0   duration_sec             183412 non-null  int64  \n",
      " 1   start_time               183412 non-null  object \n",
      " 2   end_time                 183412 non-null  object \n",
      " 3   start_station_id         183215 non-null  float64\n",
      " 4   start_station_name       183215 non-null  object \n",
      " 5   start_station_latitude   183412 non-null  float64\n",
      " 6   start_station_longitude  183412 non-null  float64\n",
      " 7   end_station_id           183215 non-null  float64\n",
      " 8   end_station_name         183215 non-null  object \n",
      " 9   end_station_latitude     183412 non-null  float64\n",
      " 10  end_station_longitude    183412 non-null  float64\n",
      " 11  bike_id                  183412 non-null  int64  \n",
      " 12  user_type                183412 non-null  object \n",
      " 13  member_birth_year        175147 non-null  float64\n",
      " 14  member_gender            175147 non-null  object \n",
      " 15  bike_share_for_all_trip  183412 non-null  object \n",
      "dtypes: float64(7), int64(2), object(7)\n",
      "memory usage: 22.4+ MB\n"
     ]
    }
   ],
   "source": [
    "df.info()"
   ]
  },
  {
   "cell_type": "code",
   "execution_count": 5,
   "id": "eff0a3b1",
   "metadata": {},
   "outputs": [
    {
     "data": {
      "text/plain": [
       "'2019-02-28 23:59:18.5480'"
      ]
     },
     "execution_count": 5,
     "metadata": {},
     "output_type": "execute_result"
    }
   ],
   "source": [
    "df.start_time.max()"
   ]
  },
  {
   "cell_type": "code",
   "execution_count": 6,
   "id": "bec7881f",
   "metadata": {},
   "outputs": [
    {
     "data": {
      "text/plain": [
       "duration_sec                  0\n",
       "start_time                    0\n",
       "end_time                      0\n",
       "start_station_id            197\n",
       "start_station_name          197\n",
       "start_station_latitude        0\n",
       "start_station_longitude       0\n",
       "end_station_id              197\n",
       "end_station_name            197\n",
       "end_station_latitude          0\n",
       "end_station_longitude         0\n",
       "bike_id                       0\n",
       "user_type                     0\n",
       "member_birth_year          8265\n",
       "member_gender              8265\n",
       "bike_share_for_all_trip       0\n",
       "dtype: int64"
      ]
     },
     "execution_count": 6,
     "metadata": {},
     "output_type": "execute_result"
    }
   ],
   "source": [
    "#check for  null values\n",
    "df.isnull().sum()"
   ]
  },
  {
   "cell_type": "markdown",
   "id": "d256da15",
   "metadata": {},
   "source": [
    "We can se we have null values for some columns  like station_name and member_gender.\n",
    "Removing these rows of theese columns  will remove the other null values. It's like using one stone to kill two birds.\n"
   ]
  },
  {
   "cell_type": "code",
   "execution_count": 7,
   "id": "1b2d671f",
   "metadata": {},
   "outputs": [
    {
     "data": {
      "text/plain": [
       "0"
      ]
     },
     "execution_count": 7,
     "metadata": {},
     "output_type": "execute_result"
    }
   ],
   "source": [
    "#To check for duplicates\n",
    "df.duplicated().sum()"
   ]
  },
  {
   "cell_type": "markdown",
   "id": "4685c7d3",
   "metadata": {},
   "source": [
    "No duplicate  in our dataset"
   ]
  },
  {
   "cell_type": "code",
   "execution_count": 8,
   "id": "0281d097",
   "metadata": {
    "scrolled": false
   },
   "outputs": [
    {
     "data": {
      "text/html": [
       "<div>\n",
       "<style scoped>\n",
       "    .dataframe tbody tr th:only-of-type {\n",
       "        vertical-align: middle;\n",
       "    }\n",
       "\n",
       "    .dataframe tbody tr th {\n",
       "        vertical-align: top;\n",
       "    }\n",
       "\n",
       "    .dataframe thead th {\n",
       "        text-align: right;\n",
       "    }\n",
       "</style>\n",
       "<table border=\"1\" class=\"dataframe\">\n",
       "  <thead>\n",
       "    <tr style=\"text-align: right;\">\n",
       "      <th></th>\n",
       "      <th>duration_sec</th>\n",
       "      <th>start_station_id</th>\n",
       "      <th>start_station_latitude</th>\n",
       "      <th>start_station_longitude</th>\n",
       "      <th>end_station_id</th>\n",
       "      <th>end_station_latitude</th>\n",
       "      <th>end_station_longitude</th>\n",
       "      <th>bike_id</th>\n",
       "      <th>member_birth_year</th>\n",
       "    </tr>\n",
       "  </thead>\n",
       "  <tbody>\n",
       "    <tr>\n",
       "      <th>count</th>\n",
       "      <td>183412.000000</td>\n",
       "      <td>183215.000000</td>\n",
       "      <td>183412.000000</td>\n",
       "      <td>183412.000000</td>\n",
       "      <td>183215.000000</td>\n",
       "      <td>183412.000000</td>\n",
       "      <td>183412.000000</td>\n",
       "      <td>183412.000000</td>\n",
       "      <td>175147.000000</td>\n",
       "    </tr>\n",
       "    <tr>\n",
       "      <th>mean</th>\n",
       "      <td>726.078435</td>\n",
       "      <td>138.590427</td>\n",
       "      <td>37.771223</td>\n",
       "      <td>-122.352664</td>\n",
       "      <td>136.249123</td>\n",
       "      <td>37.771427</td>\n",
       "      <td>-122.352250</td>\n",
       "      <td>4472.906375</td>\n",
       "      <td>1984.806437</td>\n",
       "    </tr>\n",
       "    <tr>\n",
       "      <th>std</th>\n",
       "      <td>1794.389780</td>\n",
       "      <td>111.778864</td>\n",
       "      <td>0.099581</td>\n",
       "      <td>0.117097</td>\n",
       "      <td>111.515131</td>\n",
       "      <td>0.099490</td>\n",
       "      <td>0.116673</td>\n",
       "      <td>1664.383394</td>\n",
       "      <td>10.116689</td>\n",
       "    </tr>\n",
       "    <tr>\n",
       "      <th>min</th>\n",
       "      <td>61.000000</td>\n",
       "      <td>3.000000</td>\n",
       "      <td>37.317298</td>\n",
       "      <td>-122.453704</td>\n",
       "      <td>3.000000</td>\n",
       "      <td>37.317298</td>\n",
       "      <td>-122.453704</td>\n",
       "      <td>11.000000</td>\n",
       "      <td>1878.000000</td>\n",
       "    </tr>\n",
       "    <tr>\n",
       "      <th>25%</th>\n",
       "      <td>325.000000</td>\n",
       "      <td>47.000000</td>\n",
       "      <td>37.770083</td>\n",
       "      <td>-122.412408</td>\n",
       "      <td>44.000000</td>\n",
       "      <td>37.770407</td>\n",
       "      <td>-122.411726</td>\n",
       "      <td>3777.000000</td>\n",
       "      <td>1980.000000</td>\n",
       "    </tr>\n",
       "    <tr>\n",
       "      <th>50%</th>\n",
       "      <td>514.000000</td>\n",
       "      <td>104.000000</td>\n",
       "      <td>37.780760</td>\n",
       "      <td>-122.398285</td>\n",
       "      <td>100.000000</td>\n",
       "      <td>37.781010</td>\n",
       "      <td>-122.398279</td>\n",
       "      <td>4958.000000</td>\n",
       "      <td>1987.000000</td>\n",
       "    </tr>\n",
       "    <tr>\n",
       "      <th>75%</th>\n",
       "      <td>796.000000</td>\n",
       "      <td>239.000000</td>\n",
       "      <td>37.797280</td>\n",
       "      <td>-122.286533</td>\n",
       "      <td>235.000000</td>\n",
       "      <td>37.797320</td>\n",
       "      <td>-122.288045</td>\n",
       "      <td>5502.000000</td>\n",
       "      <td>1992.000000</td>\n",
       "    </tr>\n",
       "    <tr>\n",
       "      <th>max</th>\n",
       "      <td>85444.000000</td>\n",
       "      <td>398.000000</td>\n",
       "      <td>37.880222</td>\n",
       "      <td>-121.874119</td>\n",
       "      <td>398.000000</td>\n",
       "      <td>37.880222</td>\n",
       "      <td>-121.874119</td>\n",
       "      <td>6645.000000</td>\n",
       "      <td>2001.000000</td>\n",
       "    </tr>\n",
       "  </tbody>\n",
       "</table>\n",
       "</div>"
      ],
      "text/plain": [
       "        duration_sec  start_station_id  start_station_latitude  \\\n",
       "count  183412.000000     183215.000000           183412.000000   \n",
       "mean      726.078435        138.590427               37.771223   \n",
       "std      1794.389780        111.778864                0.099581   \n",
       "min        61.000000          3.000000               37.317298   \n",
       "25%       325.000000         47.000000               37.770083   \n",
       "50%       514.000000        104.000000               37.780760   \n",
       "75%       796.000000        239.000000               37.797280   \n",
       "max     85444.000000        398.000000               37.880222   \n",
       "\n",
       "       start_station_longitude  end_station_id  end_station_latitude  \\\n",
       "count            183412.000000   183215.000000         183412.000000   \n",
       "mean               -122.352664      136.249123             37.771427   \n",
       "std                   0.117097      111.515131              0.099490   \n",
       "min                -122.453704        3.000000             37.317298   \n",
       "25%                -122.412408       44.000000             37.770407   \n",
       "50%                -122.398285      100.000000             37.781010   \n",
       "75%                -122.286533      235.000000             37.797320   \n",
       "max                -121.874119      398.000000             37.880222   \n",
       "\n",
       "       end_station_longitude        bike_id  member_birth_year  \n",
       "count          183412.000000  183412.000000      175147.000000  \n",
       "mean             -122.352250    4472.906375        1984.806437  \n",
       "std                 0.116673    1664.383394          10.116689  \n",
       "min              -122.453704      11.000000        1878.000000  \n",
       "25%              -122.411726    3777.000000        1980.000000  \n",
       "50%              -122.398279    4958.000000        1987.000000  \n",
       "75%              -122.288045    5502.000000        1992.000000  \n",
       "max              -121.874119    6645.000000        2001.000000  "
      ]
     },
     "execution_count": 8,
     "metadata": {},
     "output_type": "execute_result"
    }
   ],
   "source": [
    "#To see the summary statistics\n",
    "df.describe()"
   ]
  },
  {
   "cell_type": "code",
   "execution_count": 9,
   "id": "fd6ca393",
   "metadata": {},
   "outputs": [
    {
     "data": {
      "text/plain": [
       "duration_sec                 int64\n",
       "start_time                  object\n",
       "end_time                    object\n",
       "start_station_id           float64\n",
       "start_station_name          object\n",
       "start_station_latitude     float64\n",
       "start_station_longitude    float64\n",
       "end_station_id             float64\n",
       "end_station_name            object\n",
       "end_station_latitude       float64\n",
       "end_station_longitude      float64\n",
       "bike_id                      int64\n",
       "user_type                   object\n",
       "member_birth_year          float64\n",
       "member_gender               object\n",
       "bike_share_for_all_trip     object\n",
       "dtype: object"
      ]
     },
     "execution_count": 9,
     "metadata": {},
     "output_type": "execute_result"
    }
   ],
   "source": [
    "df.dtypes"
   ]
  },
  {
   "cell_type": "markdown",
   "id": "1f4584cd",
   "metadata": {},
   "source": [
    "We need to change the time data types, and create more columns from the dateime columns for hours, month and day"
   ]
  },
  {
   "cell_type": "code",
   "execution_count": 10,
   "id": "c1a39f3e",
   "metadata": {},
   "outputs": [],
   "source": [
    "#creating a copy of the dataset\n",
    "df_clean = df.copy()"
   ]
  },
  {
   "cell_type": "markdown",
   "id": "26b8c780",
   "metadata": {},
   "source": [
    "##### Dealing with null values \n"
   ]
  },
  {
   "cell_type": "code",
   "execution_count": 11,
   "id": "6ef1a604",
   "metadata": {},
   "outputs": [
    {
     "name": "stdout",
     "output_type": "stream",
     "text": [
      "<class 'pandas.core.frame.DataFrame'>\n",
      "Int64Index: 183215 entries, 0 to 183411\n",
      "Data columns (total 16 columns):\n",
      " #   Column                   Non-Null Count   Dtype  \n",
      "---  ------                   --------------   -----  \n",
      " 0   duration_sec             183215 non-null  int64  \n",
      " 1   start_time               183215 non-null  object \n",
      " 2   end_time                 183215 non-null  object \n",
      " 3   start_station_id         183215 non-null  float64\n",
      " 4   start_station_name       183215 non-null  object \n",
      " 5   start_station_latitude   183215 non-null  float64\n",
      " 6   start_station_longitude  183215 non-null  float64\n",
      " 7   end_station_id           183215 non-null  float64\n",
      " 8   end_station_name         183215 non-null  object \n",
      " 9   end_station_latitude     183215 non-null  float64\n",
      " 10  end_station_longitude    183215 non-null  float64\n",
      " 11  bike_id                  183215 non-null  int64  \n",
      " 12  user_type                183215 non-null  object \n",
      " 13  member_birth_year        174952 non-null  float64\n",
      " 14  member_gender            174952 non-null  object \n",
      " 15  bike_share_for_all_trip  183215 non-null  object \n",
      "dtypes: float64(7), int64(2), object(7)\n",
      "memory usage: 23.8+ MB\n"
     ]
    }
   ],
   "source": [
    "# Remove rows that does not have station id\n",
    "df_clean = df_clean[df['start_station_id'].isnull() == False]\n",
    "df_clean.info()"
   ]
  },
  {
   "cell_type": "code",
   "execution_count": 12,
   "id": "3ae3f04a",
   "metadata": {},
   "outputs": [
    {
     "name": "stdout",
     "output_type": "stream",
     "text": [
      "<class 'pandas.core.frame.DataFrame'>\n",
      "Int64Index: 174952 entries, 0 to 183411\n",
      "Data columns (total 16 columns):\n",
      " #   Column                   Non-Null Count   Dtype  \n",
      "---  ------                   --------------   -----  \n",
      " 0   duration_sec             174952 non-null  int64  \n",
      " 1   start_time               174952 non-null  object \n",
      " 2   end_time                 174952 non-null  object \n",
      " 3   start_station_id         174952 non-null  float64\n",
      " 4   start_station_name       174952 non-null  object \n",
      " 5   start_station_latitude   174952 non-null  float64\n",
      " 6   start_station_longitude  174952 non-null  float64\n",
      " 7   end_station_id           174952 non-null  float64\n",
      " 8   end_station_name         174952 non-null  object \n",
      " 9   end_station_latitude     174952 non-null  float64\n",
      " 10  end_station_longitude    174952 non-null  float64\n",
      " 11  bike_id                  174952 non-null  int64  \n",
      " 12  user_type                174952 non-null  object \n",
      " 13  member_birth_year        174952 non-null  float64\n",
      " 14  member_gender            174952 non-null  object \n",
      " 15  bike_share_for_all_trip  174952 non-null  object \n",
      "dtypes: float64(7), int64(2), object(7)\n",
      "memory usage: 22.7+ MB\n"
     ]
    },
    {
     "name": "stderr",
     "output_type": "stream",
     "text": [
      "<ipython-input-12-66e23b8159af>:2: UserWarning: Boolean Series key will be reindexed to match DataFrame index.\n",
      "  df_clean = df_clean[df['member_gender'].isnull() == False]\n"
     ]
    }
   ],
   "source": [
    "# Remove rows that does not have member gender\n",
    "df_clean = df_clean[df['member_gender'].isnull() == False]\n",
    "df_clean.info()"
   ]
  },
  {
   "cell_type": "code",
   "execution_count": 13,
   "id": "ab6797c2",
   "metadata": {},
   "outputs": [
    {
     "data": {
      "text/plain": [
       "duration_sec               0\n",
       "start_time                 0\n",
       "end_time                   0\n",
       "start_station_id           0\n",
       "start_station_name         0\n",
       "start_station_latitude     0\n",
       "start_station_longitude    0\n",
       "end_station_id             0\n",
       "end_station_name           0\n",
       "end_station_latitude       0\n",
       "end_station_longitude      0\n",
       "bike_id                    0\n",
       "user_type                  0\n",
       "member_birth_year          0\n",
       "member_gender              0\n",
       "bike_share_for_all_trip    0\n",
       "dtype: int64"
      ]
     },
     "execution_count": 13,
     "metadata": {},
     "output_type": "execute_result"
    }
   ],
   "source": [
    "#To check for null values again\n",
    "df_clean.isnull().sum()"
   ]
  },
  {
   "cell_type": "markdown",
   "id": "cc428343",
   "metadata": {},
   "source": [
    "We have no null values again."
   ]
  },
  {
   "cell_type": "code",
   "execution_count": 14,
   "id": "e498faae",
   "metadata": {},
   "outputs": [],
   "source": [
    "# Change start_time and end_time to datetime format\n",
    "df_clean.start_time = pd.to_datetime(df_clean.start_time)\n",
    "df_clean.end_time = pd.to_datetime(df_clean.end_time)"
   ]
  },
  {
   "cell_type": "code",
   "execution_count": 15,
   "id": "d47156fa",
   "metadata": {},
   "outputs": [],
   "source": [
    "# Extract dayofweek, month, and hours information from the start_time\n",
    "df_clean['start_dayofweek']= df_clean['start_time'].dt.strftime('%a')\n",
    "df_clean['start_hour']= df_clean['start_time'].dt.hour\n",
    "\n",
    "\n",
    "#conversion of duration sec to minutes\n",
    "df_clean['duration_min'] = df_clean['duration_sec']/60"
   ]
  },
  {
   "cell_type": "markdown",
   "id": "5dd13ba8",
   "metadata": {},
   "source": [
    "We have formed added four additional columns"
   ]
  },
  {
   "cell_type": "code",
   "execution_count": 16,
   "id": "8998763b",
   "metadata": {},
   "outputs": [
    {
     "name": "stdout",
     "output_type": "stream",
     "text": [
      "<class 'pandas.core.frame.DataFrame'>\n",
      "Int64Index: 174952 entries, 0 to 183411\n",
      "Data columns (total 19 columns):\n",
      " #   Column                   Non-Null Count   Dtype         \n",
      "---  ------                   --------------   -----         \n",
      " 0   duration_sec             174952 non-null  int64         \n",
      " 1   start_time               174952 non-null  datetime64[ns]\n",
      " 2   end_time                 174952 non-null  datetime64[ns]\n",
      " 3   start_station_id         174952 non-null  float64       \n",
      " 4   start_station_name       174952 non-null  object        \n",
      " 5   start_station_latitude   174952 non-null  float64       \n",
      " 6   start_station_longitude  174952 non-null  float64       \n",
      " 7   end_station_id           174952 non-null  float64       \n",
      " 8   end_station_name         174952 non-null  object        \n",
      " 9   end_station_latitude     174952 non-null  float64       \n",
      " 10  end_station_longitude    174952 non-null  float64       \n",
      " 11  bike_id                  174952 non-null  int64         \n",
      " 12  user_type                174952 non-null  object        \n",
      " 13  member_birth_year        174952 non-null  float64       \n",
      " 14  member_gender            174952 non-null  object        \n",
      " 15  bike_share_for_all_trip  174952 non-null  object        \n",
      " 16  start_dayofweek          174952 non-null  object        \n",
      " 17  start_hour               174952 non-null  int64         \n",
      " 18  duration_min             174952 non-null  float64       \n",
      "dtypes: datetime64[ns](2), float64(8), int64(3), object(6)\n",
      "memory usage: 26.7+ MB\n"
     ]
    }
   ],
   "source": [
    "df_clean.info()"
   ]
  },
  {
   "cell_type": "code",
   "execution_count": 17,
   "id": "c4e551f0",
   "metadata": {},
   "outputs": [
    {
     "data": {
      "text/plain": [
       "Thu    33712\n",
       "Tue    30584\n",
       "Wed    28426\n",
       "Fri    27663\n",
       "Mon    25641\n",
       "Sun    14512\n",
       "Sat    14414\n",
       "Name: start_dayofweek, dtype: int64"
      ]
     },
     "execution_count": 17,
     "metadata": {},
     "output_type": "execute_result"
    }
   ],
   "source": [
    "df_clean['start_dayofweek'].value_counts()"
   ]
  },
  {
   "cell_type": "markdown",
   "id": "e7ba86ca",
   "metadata": {},
   "source": [
    "##### Conversion of start_dayofweek to category variable"
   ]
  },
  {
   "cell_type": "code",
   "execution_count": 18,
   "id": "99da1948",
   "metadata": {},
   "outputs": [],
   "source": [
    "# Convert the start_dayofweek to ordinal variables.\n",
    "weekdays = ['Mon','Tue','Wed','Thu','Fri', 'Sat', 'Sun']\n",
    "ordered_weekdays = pd.api.types.CategoricalDtype(ordered = True, categories = weekdays)\n",
    "df_clean['start_dayofweek'] = df_clean['start_dayofweek'].astype(ordered_weekdays)\n",
    "\n",
    "\n",
    "\n",
    "# to category\n",
    "df_clean.user_type = df_clean.user_type.astype('category')\n",
    "\n"
   ]
  },
  {
   "cell_type": "code",
   "execution_count": 19,
   "id": "ed457830",
   "metadata": {},
   "outputs": [
    {
     "name": "stdout",
     "output_type": "stream",
     "text": [
      "<class 'pandas.core.frame.DataFrame'>\n",
      "Int64Index: 174952 entries, 0 to 183411\n",
      "Data columns (total 19 columns):\n",
      " #   Column                   Non-Null Count   Dtype         \n",
      "---  ------                   --------------   -----         \n",
      " 0   duration_sec             174952 non-null  int64         \n",
      " 1   start_time               174952 non-null  datetime64[ns]\n",
      " 2   end_time                 174952 non-null  datetime64[ns]\n",
      " 3   start_station_id         174952 non-null  float64       \n",
      " 4   start_station_name       174952 non-null  object        \n",
      " 5   start_station_latitude   174952 non-null  float64       \n",
      " 6   start_station_longitude  174952 non-null  float64       \n",
      " 7   end_station_id           174952 non-null  float64       \n",
      " 8   end_station_name         174952 non-null  object        \n",
      " 9   end_station_latitude     174952 non-null  float64       \n",
      " 10  end_station_longitude    174952 non-null  float64       \n",
      " 11  bike_id                  174952 non-null  int64         \n",
      " 12  user_type                174952 non-null  category      \n",
      " 13  member_birth_year        174952 non-null  float64       \n",
      " 14  member_gender            174952 non-null  object        \n",
      " 15  bike_share_for_all_trip  174952 non-null  object        \n",
      " 16  start_dayofweek          174952 non-null  category      \n",
      " 17  start_hour               174952 non-null  int64         \n",
      " 18  duration_min             174952 non-null  float64       \n",
      "dtypes: category(2), datetime64[ns](2), float64(8), int64(3), object(4)\n",
      "memory usage: 24.4+ MB\n"
     ]
    }
   ],
   "source": [
    "df_clean.info()"
   ]
  },
  {
   "cell_type": "code",
   "execution_count": 20,
   "id": "97b135d1",
   "metadata": {},
   "outputs": [],
   "source": [
    "#calculate member_age from member_birth_year\n",
    "df_clean['member_age'] = 2022 - df_clean['member_birth_year']"
   ]
  },
  {
   "cell_type": "markdown",
   "id": "9cef40fc",
   "metadata": {},
   "source": [
    "AS we can see, we need to change the member_birth_year and age from float to int"
   ]
  },
  {
   "cell_type": "code",
   "execution_count": 21,
   "id": "2b5b43e6",
   "metadata": {},
   "outputs": [],
   "source": [
    "df_clean['member_age'] = df_clean['member_age'].astype(int)\n",
    "df_clean['member_birth_year'] = df_clean['member_birth_year'].astype(int)"
   ]
  },
  {
   "cell_type": "markdown",
   "id": "4c981a8c",
   "metadata": {},
   "source": []
  },
  {
   "cell_type": "code",
   "execution_count": 22,
   "id": "e1edc25a",
   "metadata": {},
   "outputs": [
    {
     "name": "stdout",
     "output_type": "stream",
     "text": [
      "<class 'pandas.core.frame.DataFrame'>\n",
      "Int64Index: 174952 entries, 0 to 183411\n",
      "Data columns (total 20 columns):\n",
      " #   Column                   Non-Null Count   Dtype         \n",
      "---  ------                   --------------   -----         \n",
      " 0   duration_sec             174952 non-null  int64         \n",
      " 1   start_time               174952 non-null  datetime64[ns]\n",
      " 2   end_time                 174952 non-null  datetime64[ns]\n",
      " 3   start_station_id         174952 non-null  float64       \n",
      " 4   start_station_name       174952 non-null  object        \n",
      " 5   start_station_latitude   174952 non-null  float64       \n",
      " 6   start_station_longitude  174952 non-null  float64       \n",
      " 7   end_station_id           174952 non-null  float64       \n",
      " 8   end_station_name         174952 non-null  object        \n",
      " 9   end_station_latitude     174952 non-null  float64       \n",
      " 10  end_station_longitude    174952 non-null  float64       \n",
      " 11  bike_id                  174952 non-null  int64         \n",
      " 12  user_type                174952 non-null  category      \n",
      " 13  member_birth_year        174952 non-null  int64         \n",
      " 14  member_gender            174952 non-null  object        \n",
      " 15  bike_share_for_all_trip  174952 non-null  object        \n",
      " 16  start_dayofweek          174952 non-null  category      \n",
      " 17  start_hour               174952 non-null  int64         \n",
      " 18  duration_min             174952 non-null  float64       \n",
      " 19  member_age               174952 non-null  int64         \n",
      "dtypes: category(2), datetime64[ns](2), float64(7), int64(5), object(4)\n",
      "memory usage: 25.7+ MB\n"
     ]
    }
   ],
   "source": [
    "df_clean.info()"
   ]
  },
  {
   "cell_type": "markdown",
   "id": "37a0795b",
   "metadata": {},
   "source": [
    "##### Observations\n",
    "\n",
    "After a simple cleaning, the dataset contains 174952 rows and 21 columns\n",
    "\n",
    "trip duration: how long the trip took in seconds\n",
    "start time/end time: start/end date/time for the bike rides.\n",
    "stations: start/end station, name, geolocation (latitude/longitude)\n",
    "anonymized customer data: gender, birth date and user type\n",
    "rented bikes: bike id\n",
    "\n",
    "The dataset was further enhanced with features that I may find neccessary to perform interesting analysis:\n",
    "\n",
    "rental time: hour of the day, weekday\n",
    "customer: age\n",
    "\n",
    "\n",
    "#### Features Interest\n",
    "\n",
    "start_time, to find bikes usage by hour, week, day, and month.\n",
    "user_type, to find the differences in bikes usage between subscribers and customers.\n",
    "\n",
    "\n",
    "#### Supported Features\n",
    "\n",
    "The supported features are bikes_id, start_time, user_type, and age.\n"
   ]
  },
  {
   "cell_type": "code",
   "execution_count": 23,
   "id": "66c2d3aa",
   "metadata": {},
   "outputs": [],
   "source": [
    "# labels to use in plots\n",
    "weekday_labels = ['Mon', 'Tue', 'Wed', 'Thu', 'Fri', 'Sat', 'Sun']\n",
    "\n",
    "# color to use in plots \n",
    "base_color = sn.color_palette()[0]"
   ]
  },
  {
   "cell_type": "markdown",
   "id": "3451ed17",
   "metadata": {},
   "source": [
    "### Univariate Exploration\n",
    "\n",
    "I'll start by looking at the duration_minutes as the main variable of interest. To determine the average bike trips as a unit of time.\n",
    "\n",
    "\n",
    "### Trip Durations"
   ]
  },
  {
   "cell_type": "code",
   "execution_count": 24,
   "id": "71282d32",
   "metadata": {},
   "outputs": [
    {
     "data": {
      "image/png": "[encoded data removed]",
      "text/plain": [
       "<Figure size 576x360 with 1 Axes>"
      ]
     },
     "metadata": {
      "needs_background": "light"
     },
     "output_type": "display_data"
    }
   ],
   "source": [
    "binsize = 10\n",
    "bins = np.arange(0, df_clean['duration_min'].max()+binsize, binsize)\n",
    "\n",
    "plt.figure(figsize=[8, 5])\n",
    "plt.hist(data = df_clean, x = 'duration_min', bins = bins)\n",
    "plt.title('Distribution of Trip Durations')\n",
    "plt.xlabel('Duration (min)')\n",
    "plt.ylabel('Number of Trips')\n",
    "plt.show()"
   ]
  },
  {
   "cell_type": "markdown",
   "id": "8fed3acc",
   "metadata": {},
   "source": [
    "\n",
    "\n",
    "From the chart above, You will notice the chart is distributed and  not spread with many points having low values and a long tail of data points having high values. \n",
    "Thus, a logarithmic scale transformation will be applied.\n",
    "\n",
    "\n"
   ]
  },
  {
   "cell_type": "code",
   "execution_count": 53,
   "id": "3c3b1eba",
   "metadata": {},
   "outputs": [
    {
     "data": {
      "image/png": "[encoded data removed]",
      "text/plain": [
       "<Figure size 576x360 with 1 Axes>"
      ]
     },
     "metadata": {},
     "output_type": "display_data"
    }
   ],
   "source": [
    "#creating a plot for histogram with logarithmic scale transformation\n",
    "log_binsize = 0.025\n",
    "bins = 10 ** np.arange(0, np.log10(df_clean['duration_min'].max())+log_binsize, log_binsize)\n",
    "\n",
    "#size\n",
    "plt.figure(figsize=[8, 5]);\n",
    "\n",
    "plt.hist(data = df_clean, x = 'duration_min', bins = bins);\n",
    "plt.xscale('log');\n",
    "\n",
    "plt.xticks([1, 2, 5, 10, 20, 50, 100, 200, 500, 1000], [1, 2, 5, 10, 20, 50, 100, 200, 500, 1000]);\n",
    "plt.xlabel('Duration Min');"
   ]
  },
  {
   "cell_type": "code",
   "execution_count": 26,
   "id": "70191a7d",
   "metadata": {},
   "outputs": [
    {
     "data": {
      "text/plain": [
       "count    174952.000000\n",
       "mean         11.733379\n",
       "std          27.370082\n",
       "min           1.016667\n",
       "25%           5.383333\n",
       "50%           8.500000\n",
       "75%          13.150000\n",
       "max        1409.133333\n",
       "Name: duration_min, dtype: float64"
      ]
     },
     "execution_count": 26,
     "metadata": {},
     "output_type": "execute_result"
    }
   ],
   "source": [
    "df_clean['duration_min'].describe()"
   ]
  },
  {
   "cell_type": "markdown",
   "id": "eaff0004",
   "metadata": {},
   "source": [
    "The average bike trip is 12 minutes. "
   ]
  },
  {
   "cell_type": "markdown",
   "id": "6749b55b",
   "metadata": {},
   "source": [
    "### Count of User Type"
   ]
  },
  {
   "cell_type": "code",
   "execution_count": 27,
   "id": "18e84d38",
   "metadata": {},
   "outputs": [
    {
     "data": {
      "text/plain": [
       "<AxesSubplot:xlabel='user_type', ylabel='count'>"
      ]
     },
     "execution_count": 27,
     "metadata": {},
     "output_type": "execute_result"
    },
    {
     "data": {
      "image/png": "[encoded data removed]",
      "text/plain": [
       "<Figure size 432x288 with 1 Axes>"
      ]
     },
     "metadata": {
      "needs_background": "light"
     },
     "output_type": "display_data"
    }
   ],
   "source": [
    "sn.countplot(data=df_clean,x='user_type', color= base_color)"
   ]
  },
  {
   "cell_type": "markdown",
   "id": "e9335c36",
   "metadata": {},
   "source": [
    "Subcribers are more than the Customers"
   ]
  },
  {
   "cell_type": "markdown",
   "id": "89a2a9c3",
   "metadata": {},
   "source": [
    "Count of Bikers in"
   ]
  },
  {
   "cell_type": "code",
   "execution_count": 28,
   "id": "bed61245",
   "metadata": {},
   "outputs": [
    {
     "data": {
      "text/plain": [
       "<AxesSubplot:xlabel='start_dayofweek', ylabel='count'>"
      ]
     },
     "execution_count": 28,
     "metadata": {},
     "output_type": "execute_result"
    },
    {
     "data": {
      "image/png": "[encoded data removed]",
      "text/plain": [
       "<Figure size 432x288 with 1 Axes>"
      ]
     },
     "metadata": {
      "needs_background": "light"
     },
     "output_type": "display_data"
    }
   ],
   "source": [
    "sn.countplot(data=df_clean,x='start_dayofweek', color= base_color)"
   ]
  },
  {
   "cell_type": "markdown",
   "id": "3f96245f",
   "metadata": {},
   "source": [
    "### Age Distribution"
   ]
  },
  {
   "cell_type": "code",
   "execution_count": 29,
   "id": "097dfacf",
   "metadata": {},
   "outputs": [
    {
     "data": {
      "text/plain": [
       "count    174952.000000\n",
       "mean         37.196865\n",
       "std          10.118731\n",
       "min          21.000000\n",
       "25%          30.000000\n",
       "50%          35.000000\n",
       "75%          42.000000\n",
       "max         144.000000\n",
       "Name: member_age, dtype: float64"
      ]
     },
     "execution_count": 29,
     "metadata": {},
     "output_type": "execute_result"
    }
   ],
   "source": [
    "df_clean['member_age'].describe()"
   ]
  },
  {
   "cell_type": "code",
   "execution_count": 31,
   "id": "aeb0b3e4",
   "metadata": {},
   "outputs": [
    {
     "data": {
      "text/plain": [
       "<AxesSubplot:ylabel='member_age'>"
      ]
     },
     "execution_count": 31,
     "metadata": {},
     "output_type": "execute_result"
    },
    {
     "data": {
      "image/png": "[encoded data removed]",
      "text/plain": [
       "<Figure size 432x288 with 1 Axes>"
      ]
     },
     "metadata": {
      "needs_background": "light"
     },
     "output_type": "display_data"
    }
   ],
   "source": [
    "sn.violinplot(data=df_clean, y='member_age')"
   ]
  },
  {
   "cell_type": "markdown",
   "id": "abb341e2",
   "metadata": {},
   "source": [
    "from the chart above there are outliers above 60. We will treat the outliers  by seeting the age not to be 60\n",
    "\n"
   ]
  },
  {
   "cell_type": "code",
   "execution_count": 32,
   "id": "22ad94ba",
   "metadata": {},
   "outputs": [],
   "source": [
    "# Let's remove outliners. Only keep record with member_age below 60.\n",
    "df_clean = df_clean[df_clean['member_age'] <= 60]"
   ]
  },
  {
   "cell_type": "code",
   "execution_count": 33,
   "id": "951109ba",
   "metadata": {},
   "outputs": [
    {
     "data": {
      "text/html": [
       "<div>\n",
       "<style scoped>\n",
       "    .dataframe tbody tr th:only-of-type {\n",
       "        vertical-align: middle;\n",
       "    }\n",
       "\n",
       "    .dataframe tbody tr th {\n",
       "        vertical-align: top;\n",
       "    }\n",
       "\n",
       "    .dataframe thead th {\n",
       "        text-align: right;\n",
       "    }\n",
       "</style>\n",
       "<table border=\"1\" class=\"dataframe\">\n",
       "  <thead>\n",
       "    <tr style=\"text-align: right;\">\n",
       "      <th></th>\n",
       "      <th>duration_sec</th>\n",
       "      <th>start_time</th>\n",
       "      <th>end_time</th>\n",
       "      <th>start_station_id</th>\n",
       "      <th>start_station_name</th>\n",
       "      <th>start_station_latitude</th>\n",
       "      <th>start_station_longitude</th>\n",
       "      <th>end_station_id</th>\n",
       "      <th>end_station_name</th>\n",
       "      <th>end_station_latitude</th>\n",
       "      <th>end_station_longitude</th>\n",
       "      <th>bike_id</th>\n",
       "      <th>user_type</th>\n",
       "      <th>member_birth_year</th>\n",
       "      <th>member_gender</th>\n",
       "      <th>bike_share_for_all_trip</th>\n",
       "      <th>start_dayofweek</th>\n",
       "      <th>start_hour</th>\n",
       "      <th>duration_min</th>\n",
       "      <th>member_age</th>\n",
       "    </tr>\n",
       "  </thead>\n",
       "  <tbody>\n",
       "    <tr>\n",
       "      <th>0</th>\n",
       "      <td>52185</td>\n",
       "      <td>2019-02-28 17:32:10.145</td>\n",
       "      <td>2019-03-01 08:01:55.975</td>\n",
       "      <td>21.0</td>\n",
       "      <td>Montgomery St BART Station (Market St at 2nd St)</td>\n",
       "      <td>37.789625</td>\n",
       "      <td>-122.400811</td>\n",
       "      <td>13.0</td>\n",
       "      <td>Commercial St at Montgomery St</td>\n",
       "      <td>37.794231</td>\n",
       "      <td>-122.402923</td>\n",
       "      <td>4902</td>\n",
       "      <td>Customer</td>\n",
       "      <td>1984</td>\n",
       "      <td>Male</td>\n",
       "      <td>No</td>\n",
       "      <td>Thu</td>\n",
       "      <td>17</td>\n",
       "      <td>869.75</td>\n",
       "      <td>38</td>\n",
       "    </tr>\n",
       "    <tr>\n",
       "      <th>2</th>\n",
       "      <td>61854</td>\n",
       "      <td>2019-02-28 12:13:13.218</td>\n",
       "      <td>2019-03-01 05:24:08.146</td>\n",
       "      <td>86.0</td>\n",
       "      <td>Market St at Dolores St</td>\n",
       "      <td>37.769305</td>\n",
       "      <td>-122.426826</td>\n",
       "      <td>3.0</td>\n",
       "      <td>Powell St BART Station (Market St at 4th St)</td>\n",
       "      <td>37.786375</td>\n",
       "      <td>-122.404904</td>\n",
       "      <td>5905</td>\n",
       "      <td>Customer</td>\n",
       "      <td>1972</td>\n",
       "      <td>Male</td>\n",
       "      <td>No</td>\n",
       "      <td>Thu</td>\n",
       "      <td>12</td>\n",
       "      <td>1030.90</td>\n",
       "      <td>50</td>\n",
       "    </tr>\n",
       "  </tbody>\n",
       "</table>\n",
       "</div>"
      ],
      "text/plain": [
       "   duration_sec              start_time                end_time  \\\n",
       "0         52185 2019-02-28 17:32:10.145 2019-03-01 08:01:55.975   \n",
       "2         61854 2019-02-28 12:13:13.218 2019-03-01 05:24:08.146   \n",
       "\n",
       "   start_station_id                                start_station_name  \\\n",
       "0              21.0  Montgomery St BART Station (Market St at 2nd St)   \n",
       "2              86.0                           Market St at Dolores St   \n",
       "\n",
       "   start_station_latitude  start_station_longitude  end_station_id  \\\n",
       "0               37.789625              -122.400811            13.0   \n",
       "2               37.769305              -122.426826             3.0   \n",
       "\n",
       "                               end_station_name  end_station_latitude  \\\n",
       "0                Commercial St at Montgomery St             37.794231   \n",
       "2  Powell St BART Station (Market St at 4th St)             37.786375   \n",
       "\n",
       "   end_station_longitude  bike_id user_type  member_birth_year member_gender  \\\n",
       "0            -122.402923     4902  Customer               1984          Male   \n",
       "2            -122.404904     5905  Customer               1972          Male   \n",
       "\n",
       "  bike_share_for_all_trip start_dayofweek  start_hour  duration_min  \\\n",
       "0                      No             Thu          17        869.75   \n",
       "2                      No             Thu          12       1030.90   \n",
       "\n",
       "   member_age  \n",
       "0          38  \n",
       "2          50  "
      ]
     },
     "execution_count": 33,
     "metadata": {},
     "output_type": "execute_result"
    }
   ],
   "source": [
    "df_clean.head(2)"
   ]
  },
  {
   "cell_type": "code",
   "execution_count": 52,
   "id": "d20569d5",
   "metadata": {},
   "outputs": [
    {
     "data": {
      "image/png": "[encoded data removed]",
      "text/plain": [
       "<Figure size 648x432 with 1 Axes>"
      ]
     },
     "metadata": {},
     "output_type": "display_data"
    }
   ],
   "source": [
    "#bin size\n",
    "binsize = 3\n",
    "\n",
    "#the plot size\n",
    "plt.figure(figsize=[9, 6])\n",
    "\n",
    "\n",
    "bins = np.arange(18, df_clean['member_age'].max()+binsize, binsize)\n",
    "plt.hist(data = df_clean, x = 'member_age', bins = bins);\n",
    "plt.title(\"Distribution of User's Age\")\n",
    "plt.xlabel('Age')\n",
    "plt.ylabel('Bikers')\n",
    "plt.show()"
   ]
  },
  {
   "cell_type": "markdown",
   "id": "324ea5c3",
   "metadata": {},
   "source": [
    "Most bikers are between the age 25 and 35. There is a steadly decline in usage from age 35."
   ]
  },
  {
   "cell_type": "code",
   "execution_count": null,
   "id": "aa9cea7a",
   "metadata": {},
   "outputs": [],
   "source": []
  },
  {
   "cell_type": "markdown",
   "id": "2dc8a8d6",
   "metadata": {},
   "source": [
    "### User's Participation"
   ]
  },
  {
   "cell_type": "code",
   "execution_count": 35,
   "id": "af1344c7",
   "metadata": {},
   "outputs": [
    {
     "data": {
      "text/html": [
       "<div>\n",
       "<style scoped>\n",
       "    .dataframe tbody tr th:only-of-type {\n",
       "        vertical-align: middle;\n",
       "    }\n",
       "\n",
       "    .dataframe tbody tr th {\n",
       "        vertical-align: top;\n",
       "    }\n",
       "\n",
       "    .dataframe thead th {\n",
       "        text-align: right;\n",
       "    }\n",
       "</style>\n",
       "<table border=\"1\" class=\"dataframe\">\n",
       "  <thead>\n",
       "    <tr style=\"text-align: right;\">\n",
       "      <th></th>\n",
       "      <th>user_type</th>\n",
       "      <th>counts</th>\n",
       "      <th>Percentage %</th>\n",
       "    </tr>\n",
       "  </thead>\n",
       "  <tbody>\n",
       "    <tr>\n",
       "      <th>0</th>\n",
       "      <td>Subscriber</td>\n",
       "      <td>152949</td>\n",
       "      <td>90.41</td>\n",
       "    </tr>\n",
       "    <tr>\n",
       "      <th>1</th>\n",
       "      <td>Customer</td>\n",
       "      <td>16222</td>\n",
       "      <td>9.59</td>\n",
       "    </tr>\n",
       "  </tbody>\n",
       "</table>\n",
       "</div>"
      ],
      "text/plain": [
       "    user_type  counts  Percentage %\n",
       "0  Subscriber  152949         90.41\n",
       "1    Customer   16222          9.59"
      ]
     },
     "execution_count": 35,
     "metadata": {},
     "output_type": "execute_result"
    }
   ],
   "source": [
    "#to get the count of users\n",
    "user_counts =df_clean.value_counts([\"user_type\"]).reset_index(name= \"counts\")\n",
    "user_counts\n",
    "\n",
    "#To get the percentage\n",
    "user_counts['Percentage %'] = round(user_counts.counts / user_counts.counts.sum() * 100, 2)\n",
    "\n",
    "user_counts"
   ]
  },
  {
   "cell_type": "markdown",
   "id": "121819c9",
   "metadata": {},
   "source": [
    "#####  Let's plot donughrt chart"
   ]
  },
  {
   "cell_type": "code",
   "execution_count": 36,
   "id": "166bc747",
   "metadata": {},
   "outputs": [
    {
     "data": {
      "image/png": "[encoded data removed]",
      "text/plain": [
       "<Figure size 432x288 with 1 Axes>"
      ]
     },
     "metadata": {},
     "output_type": "display_data"
    }
   ],
   "source": [
    "user_percentage = user_counts[\"Percentage %\"].to_list()\n",
    "plt.title('User Distribution', fontsize=20, loc='Right')\n",
    "plt.pie(user_percentage, colors=['#a2d5c6','#df2631'], labels= [\"Subscriber\", \"Customer\"], \n",
    "        radius=1.2, autopct= \"%0.1f%%\", pctdistance = 0.88,\n",
    "        textprops = {\"size\" : 11, \"color\" : \"#000000\"}, explode= [0.00, 0.00])\n",
    "\n",
    "centre_circle = plt.Circle((0,0), 0.8, fc = \"w\")\n",
    "fig = plt.gcf()\n",
    "fig.gca().add_artist(centre_circle)\n",
    "plt.show()"
   ]
  },
  {
   "cell_type": "markdown",
   "id": "1e9a7a75",
   "metadata": {},
   "source": [
    "Most users are actually subscribers than actual customers who represents only 9.6% of total users."
   ]
  },
  {
   "cell_type": "markdown",
   "id": "78950295",
   "metadata": {},
   "source": [
    "### Daily Ride Usage"
   ]
  },
  {
   "cell_type": "code",
   "execution_count": 37,
   "id": "dce70c78",
   "metadata": {},
   "outputs": [
    {
     "data": {
      "image/png": "[encoded data removed]",
      "text/plain": [
       "<Figure size 432x288 with 1 Axes>"
      ]
     },
     "metadata": {
      "needs_background": "light"
     },
     "output_type": "display_data"
    }
   ],
   "source": [
    "#creating a plot to visualize the days\n",
    "#base color has been declared earlier\n",
    "sn.countplot(data = df_clean, x = 'start_dayofweek', color = base_color);"
   ]
  },
  {
   "cell_type": "markdown",
   "id": "ee7131b0",
   "metadata": {},
   "source": [
    "The service is most used on Thursday with over 35,000. The usage decreases significantly on the weekends."
   ]
  },
  {
   "cell_type": "markdown",
   "id": "1a1132bd",
   "metadata": {},
   "source": [
    "###  Hours that Users used the most bikers"
   ]
  },
  {
   "cell_type": "code",
   "execution_count": 38,
   "id": "dfaf8024",
   "metadata": {
    "scrolled": true
   },
   "outputs": [
    {
     "data": {
      "image/png": "[encoded data removed]",
      "text/plain": [
       "<Figure size 432x288 with 1 Axes>"
      ]
     },
     "metadata": {
      "needs_background": "light"
     },
     "output_type": "display_data"
    }
   ],
   "source": [
    "sn.countplot(data = df_clean, x = 'start_hour', color = base_color);"
   ]
  },
  {
   "cell_type": "markdown",
   "id": "696615ec",
   "metadata": {},
   "source": [
    "8:00 AM and 5:00 PM are the two peak hours which have most bikers."
   ]
  },
  {
   "cell_type": "markdown",
   "id": "df699e71",
   "metadata": {},
   "source": [
    "### The Gender Distribution"
   ]
  },
  {
   "cell_type": "code",
   "execution_count": 39,
   "id": "41265620",
   "metadata": {},
   "outputs": [
    {
     "data": {
      "image/png": "[encoded data removed]",
      "text/plain": [
       "<Figure size 432x288 with 1 Axes>"
      ]
     },
     "metadata": {
      "needs_background": "light"
     },
     "output_type": "display_data"
    }
   ],
   "source": [
    "\n",
    "sn.countplot(data = df_clean, x = 'member_gender', color = base_color);"
   ]
  },
  {
   "cell_type": "markdown",
   "id": "97d4e41c",
   "metadata": {},
   "source": [
    "Males are outpacing the female and other genders in bike ride usage. Male represents over 120,000 with females representing a third of that amount."
   ]
  },
  {
   "cell_type": "markdown",
   "id": "0006b9c3",
   "metadata": {},
   "source": [
    "### Talk about some of the relationships you observed in this part of the investigation. How did the feature(s) of interest vary with other features in the dataset?\n",
    "\n",
    "1. The bike duration variable took on a large range of values. I did have to perform a log transform. The data looked    bimodal under the log transformation with one peak between 8 and 12 minutes.\n",
    "2. User with Age between 25 and 35 are making top of number of trips\n",
    "\n",
    "3.  Very few rides lasted more than one hour.\n",
    "4. The majority of bike users were subscribers (80.6%).\n"
   ]
  },
  {
   "cell_type": "markdown",
   "id": "6ee82e7d",
   "metadata": {},
   "source": [
    "### Did you observe any interesting relationships between the other features (not the main feature(s) of interest)?\n",
    "\n",
    "\n",
    "\n",
    "\n",
    "1. There was an outlier so, we needed to make a zoom in and limit the number of minutes to 60 to get better insights\n",
    "\n",
    "2. I did a further cleaning with the limiting the age to be from 15 to 60 to exclude another minor outlier to get better insights.\n",
    "\n"
   ]
  },
  {
   "cell_type": "markdown",
   "id": "1b2c5f0a",
   "metadata": {},
   "source": [
    "## Bivariate Exploration\n",
    "\n",
    "\n",
    "I'II be using faceting beacuse i have a lot of categories variable i want to breakdown"
   ]
  },
  {
   "cell_type": "code",
   "execution_count": 40,
   "id": "3f0c97e7",
   "metadata": {},
   "outputs": [
    {
     "data": {
      "image/png": "[encoded data removed]",
      "text/plain": [
       "<Figure size 432x432 with 1 Axes>"
      ]
     },
     "metadata": {
      "needs_background": "light"
     },
     "output_type": "display_data"
    }
   ],
   "source": [
    "plt.figure(figsize = [6, 6]);\n",
    "sn.countplot(data = df_clean, x = 'member_gender', \n",
    "             hue = 'user_type', palette = 'magma').set(title = 'Count of Gender by User Type');"
   ]
  },
  {
   "cell_type": "markdown",
   "id": "a05de115",
   "metadata": {},
   "source": [
    "From the chart above, we can see Male Subscriber  are more than the Female Subscriber, like wise Customer."
   ]
  },
  {
   "cell_type": "markdown",
   "id": "c43d7694",
   "metadata": {},
   "source": [
    "### User Type vs Duration Minutes"
   ]
  },
  {
   "cell_type": "code",
   "execution_count": 41,
   "id": "05afd5d0",
   "metadata": {},
   "outputs": [
    {
     "data": {
      "image/png": "[encoded data removed]",
      "text/plain": [
       "<Figure size 1152x288 with 2 Axes>"
      ]
     },
     "metadata": {
      "needs_background": "light"
     },
     "output_type": "display_data"
    }
   ],
   "source": [
    "# facetting histograms of duration_min against user_type\n",
    "user_order = df_clean['user_type'].value_counts().index\n",
    "\n",
    "\n",
    "bin_edges = 10 ** np.arange(0.0, np.log10(df_clean.duration_min.max())+0.1, 0.1)\n",
    "f = sn.FacetGrid(data = df_clean, col = 'user_type', hue='user_type', palette='magma' ,height=4, aspect=2, \n",
    "                 col_order= user_order, sharey=False)\n",
    "f.map(plt.hist, \"duration_min\", bins = bin_edges)\n",
    "plt.xscale('log')\n",
    "tick_locs = [1, 2, 5, 10, 20, 50, 100, 200, 500, 1000]\n",
    "plt.xticks(tick_locs, tick_locs);"
   ]
  },
  {
   "cell_type": "markdown",
   "id": "3eb444bf",
   "metadata": {},
   "source": [
    "\n",
    "Subscribers mostly rode bikes for (8-12) minutes, while customers mostly rode them for (10-20) minutes.\n",
    "Also, customers rides were more likely to last more than one hour compared to subscribers."
   ]
  },
  {
   "cell_type": "markdown",
   "id": "b9f1b0ed",
   "metadata": {},
   "source": [
    "###  Daily Ride Usage by Gender"
   ]
  },
  {
   "cell_type": "code",
   "execution_count": 42,
   "id": "b53a0588",
   "metadata": {},
   "outputs": [
    {
     "data": {
      "image/png": "[encoded data removed]",
      "text/plain": [
       "<Figure size 1152x576 with 3 Axes>"
      ]
     },
     "metadata": {
      "needs_background": "light"
     },
     "output_type": "display_data"
    }
   ],
   "source": [
    "# facetting histograms of start_weekday against gender\n",
    "\n",
    "\n",
    "#fig, ax = plt.subplots(ncols = 2, nrows = 2 , figsize = [15,10])\n",
    "#The count of member_gender\n",
    "gender_order = df_clean['member_gender'].value_counts().index\n",
    "bin_edges = np.arange(-0.5, 6.5+1, 1)\n",
    "\n",
    "f= sn.FacetGrid(data = df_clean, col = 'member_gender',hue='member_gender', palette='viridis' , height=4, aspect=2, \n",
    "                 col_order = gender_order, col_wrap=2,  sharey=False)\n",
    "\n",
    "f.map(plt.hist, 'start_dayofweek', bins = bin_edges, rwidth = 0.7);\n",
    "plt.xticks(np.arange(0, 6+1, 1), weekday_labels);"
   ]
  },
  {
   "cell_type": "markdown",
   "id": "6703f79a",
   "metadata": {},
   "source": [
    "From the chart above, we can see Females bikers rides longer than Male. Obviously, Monday is always the busiest day. I have no doubt about that as we all know Mondays are always busy.\n",
    "\n",
    "Friday is the lowest."
   ]
  },
  {
   "cell_type": "markdown",
   "id": "9d8b0ae4",
   "metadata": {},
   "source": [
    "### Daily Ride Users by User's Type"
   ]
  },
  {
   "cell_type": "code",
   "execution_count": 43,
   "id": "441257b3",
   "metadata": {},
   "outputs": [
    {
     "data": {
      "image/png": "[encoded data removed]",
      "text/plain": [
       "<Figure size 864x432 with 2 Axes>"
      ]
     },
     "metadata": {
      "needs_background": "light"
     },
     "output_type": "display_data"
    }
   ],
   "source": [
    "sn.catplot(data=df_clean, x='start_dayofweek', col=\"user_type\", order = weekday_labels, kind='count', \n",
    "           sharey = False, color = base_color, height = 6);"
   ]
  },
  {
   "cell_type": "markdown",
   "id": "4091af81",
   "metadata": {},
   "source": [
    "From the chart above , Subscribers mostly used bikes on workdays (Monday - Friday), while customers bikes usage was about the same for the whole week.\n",
    "\n",
    "Therefore, this shows that subscribers doesn't rides on weekend while customers rides on weekends."
   ]
  },
  {
   "cell_type": "markdown",
   "id": "d3fccc58",
   "metadata": {},
   "source": [
    "### Talk about some of the relationships you observed in this part of the investigation. How did the feature(s) of interest vary with other features in the dataset?\n",
    "\n"
   ]
  },
  {
   "cell_type": "markdown",
   "id": "5ec766ba",
   "metadata": {},
   "source": [
    "\n",
    "1. Subscribers tends to rent bikes on working days while Customers tends to rent more in the weekend holiday (Saturday and Sunday) for longer duration.\n",
    "\n",
    "2. Subscribers tends to rent bikes for shorter duration while Customers tends to rent bikes for longer duration.\n",
    "   \n",
    "3. Gender Differnce does not have any effect on number of trips through the days of week.\n",
    "\n",
    "4. Subscribers mostly rode bikes for (8-12) minutes, while customers mostly rode them for (10-19) minutes.\n",
    "\n",
    "5. Male Subscriber  are more than the Female Subscriber, like wise Customer.\n",
    "\n",
    "\n",
    "\n",
    "###  Did you observe any interesting relationships between the other features (not the main feature(s) of interest)?\n",
    "\n",
    "Males tends to have a slightly shorter trips’ duration than females.\n",
    "\n"
   ]
  },
  {
   "cell_type": "markdown",
   "id": "343b7112",
   "metadata": {},
   "source": [
    "### Multivariate Exploration"
   ]
  },
  {
   "cell_type": "markdown",
   "id": "0588a068",
   "metadata": {},
   "source": [
    "#### Trip duration on a weekday for each User type"
   ]
  },
  {
   "cell_type": "markdown",
   "id": "1991bbd6",
   "metadata": {},
   "source": [
    "\n",
    "\n",
    "Since most rides didn't exceed an hour, I will just keep the rides with duration_minutes <= 60 in this part, to get a more accurate duration_minutes mean.\n",
    "\n"
   ]
  },
  {
   "cell_type": "code",
   "execution_count": 44,
   "id": "237558df",
   "metadata": {},
   "outputs": [],
   "source": [
    "df_clean_60 = df_clean[df_clean.duration_min <= 60]"
   ]
  },
  {
   "cell_type": "code",
   "execution_count": 45,
   "id": "0a929473",
   "metadata": {
    "scrolled": true
   },
   "outputs": [
    {
     "data": {
      "image/png": "[encoded data removed]",
      "text/plain": [
       "<Figure size 720x360 with 1 Axes>"
      ]
     },
     "metadata": {
      "needs_background": "light"
     },
     "output_type": "display_data"
    }
   ],
   "source": [
    "user_weekday_avg_mint = df_clean_60.groupby(['user_type','start_dayofweek']).duration_min.mean()\n",
    "user_weekday_avg_mint = user_weekday_avg_mint.reset_index()\n",
    "\n",
    "# plot a line plot with colors based on user_type\n",
    "plt.figure(figsize=[10,5])\n",
    "sn.set_style('darkgrid')\n",
    "sn.lineplot(data = user_weekday_avg_mint, x='start_dayofweek', y='duration_min', hue='user_type', marker='o')\n",
    "plt.xticks(np.arange(0,7), weekday_labels)\n",
    "plt.ylabel('Average Duration (min)');"
   ]
  },
  {
   "cell_type": "markdown",
   "id": "217ceadc",
   "metadata": {},
   "source": [
    "Both of Users type have a longer trip duration on weekend in relative to their trips during other week days.\n",
    "\n",
    "It appears that customers hire bikes for amusement and enjoyment since they keep them longer than subscribers do, especially on weekends (Saturday and Sunday).\n"
   ]
  },
  {
   "cell_type": "markdown",
   "id": "6c79f0c1",
   "metadata": {},
   "source": [
    "#### Trip duration on a weekday for each gender type"
   ]
  },
  {
   "cell_type": "code",
   "execution_count": 46,
   "id": "47c8654b",
   "metadata": {},
   "outputs": [
    {
     "data": {
      "image/png": "[encoded data removed]",
      "text/plain": [
       "<Figure size 720x360 with 1 Axes>"
      ]
     },
     "metadata": {},
     "output_type": "display_data"
    }
   ],
   "source": [
    "user_weekday_avg_mint = df_clean_60.groupby(['member_gender','start_dayofweek']).duration_min.mean()\n",
    "user_weekday_avg_mint = user_weekday_avg_mint.reset_index()\n",
    "\n",
    "#labels\n",
    "#weekday_labels = ['Mon', 'Tue', 'Wed', 'Thu', 'Fri', 'Sat', 'Sun']\n",
    "\n",
    "# plot a line plot with colors based on user_type\n",
    "sn.set_style('whitegrid')\n",
    "plt.figure(figsize=[10,5])\n",
    "sn.set_style('darkgrid')\n",
    "sn.lineplot(data = user_weekday_avg_mint, x='start_dayofweek', y='duration_min', hue='member_gender', marker='o')\n",
    "plt.xticks(np.arange(0,7), weekday_labels)\n",
    "plt.ylabel('Average Duration (min)');"
   ]
  },
  {
   "cell_type": "markdown",
   "id": "f2315fc0",
   "metadata": {},
   "source": [
    "Not surprising the trip duration start trending up on the weekends from Thursdays to Saturdays. Males still have the shortest bike trip."
   ]
  },
  {
   "cell_type": "markdown",
   "id": "83643cf1",
   "metadata": {},
   "source": [
    "#### Talk about some of the relationships you observed in this part of the investigation. Were there features that strengthened each other in terms of looking at your feature(s) of interest?\n",
    "\n"
   ]
  },
  {
   "cell_type": "markdown",
   "id": "d7cb5850",
   "metadata": {},
   "source": [
    "\n",
    "Customers rides lasted longer than subscribers rides on every week day."
   ]
  },
  {
   "cell_type": "markdown",
   "id": "43299539",
   "metadata": {},
   "source": [
    "#### Were there any interesting or surprising interactions between features?\n",
    "\n",
    "Customers were more likely to use bikes for a longer period than subscribers, especially on weekends."
   ]
  },
  {
   "cell_type": "code",
   "execution_count": 47,
   "id": "24ddce0b",
   "metadata": {},
   "outputs": [],
   "source": [
    "# save cleaned data \n",
    "df_clean.to_csv('clean_file.csv', index=False)"
   ]
  },
  {
   "cell_type": "markdown",
   "id": "d4b08fdd",
   "metadata": {},
   "source": [
    "#### Conclusion"
   ]
  },
  {
   "cell_type": "markdown",
   "id": "c6c83865",
   "metadata": {},
   "source": [
    "1. Most bikers are between the age 25 and 35. There is a steadly decline in usage from age 35.\n",
    "2. Most users are actually subscribers than actual customers who represents only 9.6% of total users.\n",
    "3. The service is most used on Thursday. The usage decreases significantly on the weekends.\n",
    "4. Subscribers mostly rode bikes for (8-12) minutes, while customers mostly rode them for (10-20) minutes.\n",
    "5. Customers rides were more likely to last more than one hour compared to subscribers.\n",
    "6. It appears that customers hire bikes for amusement and enjoyment since they keep them longer than subscribers do,      especially on weekends (Saturday and Sunday).\n",
    "\n",
    "\n",
    "\n",
    "\n"
   ]
  },
  {
   "cell_type": "markdown",
   "id": "e060cda3",
   "metadata": {},
   "source": [
    "#### Refereneces"
   ]
  },
  {
   "cell_type": "markdown",
   "id": "32e1c45b",
   "metadata": {},
   "source": [
    "1. https://seaborn.pydata.org/generated/seaborn.FacetGrid.html\n",
    "2. https://hookagency.com/blog/website-color-schemes-2020/\n",
    "3. https://pandas.pydata.org/pandas-docs/stable/user_guide/indexing.html#deprecate-loc-reindex-listlike \n",
    "4. https://stackoverflow.com/questions/61291741/passing-list-likes-to-loc-or-with-any-missing-labels-is-no-longer-    supported\n",
    "5.  https://rise.readthedocs.io/en/stable/exportpdf.html\n",
    "6. https://www.analyticsvidhya.com/blog/2020/04/statistics-data-science-normal-distribution/\n",
    "7. https://practicaldatascience.co.uk/data-science/how-to-visualise-correlations-using-pandas-and-seaborn\n"
   ]
  },
  {
   "cell_type": "code",
   "execution_count": null,
   "id": "234537cb",
   "metadata": {},
   "outputs": [],
   "source": []
  }
 ],
 "metadata": {
  "kernelspec": {
   "display_name": "Python 3",
   "language": "python",
   "name": "python3"
  },
  "language_info": {
   "codemirror_mode": {
    "name": "ipython",
    "version": 3
   },
   "file_extension": ".py",
   "mimetype": "text/x-python",
   "name": "python",
   "nbconvert_exporter": "python",
   "pygments_lexer": "ipython3",
   "version": "3.9.13"
  }
 },
 "nbformat": 4,
 "nbformat_minor": 5
}
